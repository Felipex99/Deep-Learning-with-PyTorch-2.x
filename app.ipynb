{
 "cells": [
  {
   "cell_type": "code",
   "execution_count": 4,
   "metadata": {},
   "outputs": [
    {
     "name": "stdout",
     "output_type": "stream",
     "text": [
      "74\n"
     ]
    },
    {
     "data": {
      "text/plain": [
       "['bit_count',\n",
       " 'bit_length',\n",
       " 'conjugate',\n",
       " 'denominator',\n",
       " 'from_bytes',\n",
       " 'imag',\n",
       " 'is_integer',\n",
       " 'numerator',\n",
       " 'real',\n",
       " 'to_bytes']"
      ]
     },
     "execution_count": 4,
     "metadata": {},
     "output_type": "execute_result"
    }
   ],
   "source": [
    "a = 3\n",
    "print(len(dir(a)))\n",
    "dir(a)[-10:]"
   ]
  },
  {
   "cell_type": "code",
   "execution_count": 3,
   "metadata": {},
   "outputs": [
    {
     "data": {
      "text/plain": [
       "['__abs__',\n",
       " '__add__',\n",
       " '__and__',\n",
       " '__bool__',\n",
       " '__ceil__',\n",
       " '__class__',\n",
       " '__delattr__',\n",
       " '__dir__',\n",
       " '__divmod__',\n",
       " '__doc__',\n",
       " '__eq__',\n",
       " '__float__',\n",
       " '__floor__',\n",
       " '__floordiv__',\n",
       " '__format__',\n",
       " '__ge__',\n",
       " '__getattribute__',\n",
       " '__getnewargs__',\n",
       " '__getstate__',\n",
       " '__gt__',\n",
       " '__hash__',\n",
       " '__index__',\n",
       " '__init__',\n",
       " '__init_subclass__',\n",
       " '__int__',\n",
       " '__invert__',\n",
       " '__le__',\n",
       " '__lshift__',\n",
       " '__lt__',\n",
       " '__mod__',\n",
       " '__mul__',\n",
       " '__ne__',\n",
       " '__neg__',\n",
       " '__new__',\n",
       " '__or__',\n",
       " '__pos__',\n",
       " '__pow__',\n",
       " '__radd__',\n",
       " '__rand__',\n",
       " '__rdivmod__',\n",
       " '__reduce__',\n",
       " '__reduce_ex__',\n",
       " '__repr__',\n",
       " '__rfloordiv__',\n",
       " '__rlshift__',\n",
       " '__rmod__',\n",
       " '__rmul__',\n",
       " '__ror__',\n",
       " '__round__',\n",
       " '__rpow__',\n",
       " '__rrshift__',\n",
       " '__rshift__',\n",
       " '__rsub__',\n",
       " '__rtruediv__',\n",
       " '__rxor__',\n",
       " '__setattr__',\n",
       " '__sizeof__',\n",
       " '__str__',\n",
       " '__sub__',\n",
       " '__subclasshook__',\n",
       " '__truediv__',\n",
       " '__trunc__',\n",
       " '__xor__',\n",
       " 'as_integer_ratio',\n",
       " 'bit_count',\n",
       " 'bit_length',\n",
       " 'conjugate',\n",
       " 'denominator',\n",
       " 'from_bytes',\n",
       " 'imag',\n",
       " 'is_integer',\n",
       " 'numerator',\n",
       " 'real',\n",
       " 'to_bytes']"
      ]
     },
     "execution_count": 3,
     "metadata": {},
     "output_type": "execute_result"
    }
   ],
   "source": [
    "dir(23)"
   ]
  },
  {
   "cell_type": "code",
   "execution_count": 5,
   "metadata": {},
   "outputs": [
    {
     "data": {
      "text/plain": [
       "[[0, 1], [10, 6], [7, 3]]"
      ]
     },
     "execution_count": 5,
     "metadata": {},
     "output_type": "execute_result"
    }
   ],
   "source": [
    "points = [[0,1],[10,6],[7,3]]\n",
    "points"
   ]
  },
  {
   "cell_type": "code",
   "execution_count": 61,
   "metadata": {},
   "outputs": [
    {
     "data": {
      "text/plain": [
       "[[10, 0],\n",
       " [10, 29],\n",
       " [8, 16],\n",
       " [0, 16],\n",
       " [1, 50],\n",
       " [7, 44],\n",
       " [3, 46],\n",
       " [10, 9],\n",
       " [10, 17],\n",
       " [0, 45]]"
      ]
     },
     "execution_count": 61,
     "metadata": {},
     "output_type": "execute_result"
    }
   ],
   "source": [
    "from random import randint\n",
    "num_points = 10\n",
    "x_range = (0,10)\n",
    "y_range = (0,50)\n",
    "points = [[randint(*x_range), randint(*y_range)] for _ in range(num_points)]\n",
    "points"
   ]
  },
  {
   "cell_type": "code",
   "execution_count": 62,
   "metadata": {},
   "outputs": [
    {
     "data": {
      "text/plain": [
       "array([[10,  0],\n",
       "       [10, 29],\n",
       "       [ 8, 16],\n",
       "       [ 0, 16],\n",
       "       [ 1, 50],\n",
       "       [ 7, 44],\n",
       "       [ 3, 46],\n",
       "       [10,  9],\n",
       "       [10, 17],\n",
       "       [ 0, 45]])"
      ]
     },
     "execution_count": 62,
     "metadata": {},
     "output_type": "execute_result"
    }
   ],
   "source": [
    "import numpy as np\n",
    "points = np.array(points)\n",
    "points"
   ]
  },
  {
   "cell_type": "code",
   "execution_count": 63,
   "metadata": {},
   "outputs": [
    {
     "data": {
      "text/plain": [
       "array([[ 3, 22],\n",
       "       [ 2, 37],\n",
       "       [ 7,  1],\n",
       "       [ 4, 18],\n",
       "       [ 4, 13],\n",
       "       [ 5, 40],\n",
       "       [ 8, 18],\n",
       "       [ 5,  4],\n",
       "       [ 7, 37],\n",
       "       [ 7, 13]])"
      ]
     },
     "execution_count": 63,
     "metadata": {},
     "output_type": "execute_result"
    }
   ],
   "source": [
    "num_dim = 2\n",
    "num_points = 10\n",
    "x_range = (0,11)\n",
    "y_range = (0,51)\n",
    "points = np.random.randint(\n",
    "    low = (x_range[0], y_range[0]), high = (x_range[1], y_range[1]), size = (num_points,num_dim)\n",
    ")\n",
    "points"
   ]
  },
  {
   "cell_type": "markdown",
   "metadata": {},
   "source": [
    "# COMPARANDO O TEMPO DE EXECUÇÃO ENTRE O PYTHON E O NUMPY"
   ]
  },
  {
   "cell_type": "code",
   "execution_count": 64,
   "metadata": {},
   "outputs": [],
   "source": [
    "num_dims = 2\n",
    "num_points = 100000\n",
    "x_range = (0,10)\n",
    "y_range = (0,50)"
   ]
  },
  {
   "cell_type": "code",
   "execution_count": 80,
   "metadata": {},
   "outputs": [
    {
     "name": "stdout",
     "output_type": "stream",
     "text": [
      "488 ms ± 5.13 ms per loop (mean ± std. dev. of 7 runs, 1 loop each)\n"
     ]
    }
   ],
   "source": [
    "%timeit \\\n",
    "points = [[randint(*x_range),randint(*y_range)] for _ in range(num_points)]"
   ]
  },
  {
   "cell_type": "code",
   "execution_count": 81,
   "metadata": {},
   "outputs": [
    {
     "name": "stdout",
     "output_type": "stream",
     "text": [
      "2.3 ms ± 16 µs per loop (mean ± std. dev. of 7 runs, 100 loops each)\n"
     ]
    }
   ],
   "source": [
    "%timeit \\\n",
    "points = np.random.randint(low = (x_range[0],y_range[0]),high=(x_range[1],y_range[1]),size=(num_points,num_dims))"
   ]
  },
  {
   "cell_type": "markdown",
   "metadata": {},
   "source": [
    "### FUNÇÕES BÁSICAS DOO NUMPY"
   ]
  },
  {
   "cell_type": "code",
   "execution_count": 82,
   "metadata": {},
   "outputs": [
    {
     "data": {
      "text/plain": [
       "array([ 1,  2,  3,  4,  5,  6,  7,  8,  9, 10])"
      ]
     },
     "execution_count": 82,
     "metadata": {},
     "output_type": "execute_result"
    }
   ],
   "source": [
    "#CONVERTER LISTAS PARA ARRAYS\n",
    "py_list = [1,2,3,4,5,6,7,8,9,10]\n",
    "np_array = np.array(py_list)\n",
    "np_array"
   ]
  },
  {
   "cell_type": "code",
   "execution_count": 87,
   "metadata": {},
   "outputs": [
    {
     "data": {
      "text/plain": [
       "array([[ 1,  2,  3],\n",
       "       [ 4,  5,  6],\n",
       "       [ 7,  8,  9],\n",
       "       [10, 11, 12]])"
      ]
     },
     "execution_count": 87,
     "metadata": {},
     "output_type": "execute_result"
    }
   ],
   "source": [
    "py_list = [[1,2,3],[4,5,6],[7,8,9],[10,11,12]]\n",
    "np_array = np.array(py_list)\n",
    "np_array"
   ]
  },
  {
   "cell_type": "code",
   "execution_count": 100,
   "metadata": {},
   "outputs": [
    {
     "name": "stdout",
     "output_type": "stream",
     "text": [
      "Primeira linha: \t\t\t[1 2 3]\n",
      "\n",
      "Primeira linha: \t\t\t[1 2 3]\n",
      "\n",
      "Primeira coluna: \t\t\t[ 1  4  7 10]\n",
      "\n",
      "Primeira coluna: \t\t\t[4 5 6]\n",
      "\n",
      "Elemento da 3 linha e 2 coluna \t\t\t8\n",
      "Ultimas 2 linhas e ultimas 2 colunas \t\t\t\n",
      "[[ 5  6]\n",
      " [ 8  9]\n",
      " [11 12]]\n",
      "\n",
      "2rd linha e 2rd coluna \t\t\t[]\n",
      "\n",
      "Array com a 1rd e 3rd coluna \t\t\t\n",
      "[[ 1  3]\n",
      " [ 4  6]\n",
      " [ 7  9]\n",
      " [10 12]]\n",
      "\n"
     ]
    }
   ],
   "source": [
    "#SLICING(: ele pega todas as linhas de uma coluna) E INDEXAR\n",
    "print(\"Primeira linha: \\t\\t\\t{}\\n\".format(np_array[0]))\n",
    "print(\"Primeira linha: \\t\\t\\t{}\\n\".format(np_array[0,:]))\n",
    "print(\"Primeira coluna: \\t\\t\\t{}\\n\".format(np_array[:,0]))\n",
    "print(\"Primeira coluna: \\t\\t\\t{}\\n\".format(np_array[1,:]))\n",
    "print(\"Elemento da 3 linha e 2 coluna \\t\\t\\t{}\".format(np_array[2,1]))\n",
    "print(\"Ultimas 2 linhas e ultimas 2 colunas \\t\\t\\t\\n{}\\n\".format(np_array[1:,1:]))\n",
    "print(\"2rd linha e 2rd coluna \\t\\t\\t{}\\n\".format(np_array[1:1:]))\n",
    "print(\"Array com a 1rd e 3rd coluna \\t\\t\\t\\n{}\\n\".format(np_array[:,[0,2]]))\n"
   ]
  },
  {
   "cell_type": "markdown",
   "metadata": {},
   "source": [
    "### Atributos básicos dos Arrays Numpy"
   ]
  },
  {
   "cell_type": "code",
   "execution_count": 101,
   "metadata": {},
   "outputs": [
    {
     "name": "stdout",
     "output_type": "stream",
     "text": [
      "Data type: \tint32\n",
      "Array shape: \t(4, 3)\n"
     ]
    }
   ],
   "source": [
    "print(\"Data type: \\t{}\".format(np_array.dtype))\n",
    "print(\"Array shape: \\t{}\".format(np_array.shape))"
   ]
  }
 ],
 "metadata": {
  "kernelspec": {
   "display_name": "Python 3",
   "language": "python",
   "name": "python3"
  },
  "language_info": {
   "codemirror_mode": {
    "name": "ipython",
    "version": 3
   },
   "file_extension": ".py",
   "mimetype": "text/x-python",
   "name": "python",
   "nbconvert_exporter": "python",
   "pygments_lexer": "ipython3",
   "version": "3.12.4"
  }
 },
 "nbformat": 4,
 "nbformat_minor": 2
}
